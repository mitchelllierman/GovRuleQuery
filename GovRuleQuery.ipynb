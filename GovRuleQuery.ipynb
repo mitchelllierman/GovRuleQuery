{
  "nbformat": 4,
  "nbformat_minor": 0,
  "metadata": {
    "colab": {
      "provenance": [],
      "authorship_tag": "ABX9TyOIKkM5qDZSOREeUoFnkBUK",
      "include_colab_link": true
    },
    "kernelspec": {
      "name": "python3",
      "display_name": "Python 3"
    },
    "language_info": {
      "name": "python"
    }
  },
  "cells": [
    {
      "cell_type": "markdown",
      "metadata": {
        "id": "view-in-github",
        "colab_type": "text"
      },
      "source": [
        "<a href=\"https://colab.research.google.com/github/mitchelllierman/GovRuleQuery/blob/main/GovRuleQuery.ipynb\" target=\"_parent\"><img src=\"https://colab.research.google.com/assets/colab-badge.svg\" alt=\"Open In Colab\"/></a>"
      ]
    },
    {
      "cell_type": "markdown",
      "source": [
        "# Planning"
      ],
      "metadata": {
        "id": "5yd0X__yQJsv"
      }
    },
    {
      "cell_type": "markdown",
      "source": [
        "Blueprint:\n",
        "\n",
        "Problem:\n",
        "Need a lot of applications for government exemptions/permits?\n",
        "Don't know how to find the records you're looking for?\n",
        "\n"
      ],
      "metadata": {
        "id": "3iz7f-6wQTjS"
      }
    },
    {
      "cell_type": "markdown",
      "source": [
        "## Components\n"
      ],
      "metadata": {
        "id": "GLhKbAaPQnYG"
      }
    },
    {
      "cell_type": "markdown",
      "source": [
        "### Goal"
      ],
      "metadata": {
        "id": "Uo5Bd1zWRPA4"
      }
    },
    {
      "cell_type": "markdown",
      "source": [
        "Understanding of the records you want to obtain"
      ],
      "metadata": {
        "id": "PGnDyPYBSBbp"
      }
    },
    {
      "cell_type": "markdown",
      "source": [
        "### Prompt"
      ],
      "metadata": {
        "id": "Zef8ZhsUSGNT"
      }
    },
    {
      "cell_type": "markdown",
      "source": [
        "\n",
        "\n",
        "*   Description of records\n",
        "*   Instruction to generate regulations.gov query\n",
        "*   regulations.gov query documentation for additional context\n",
        "*   Example record for additional context\n",
        "*   Potential example of paired document with successful query (for higher-shot)\n"
      ],
      "metadata": {
        "id": "5T4uASxzSQY5"
      }
    },
    {
      "cell_type": "markdown",
      "source": [
        "### Model"
      ],
      "metadata": {
        "id": "6gUElBo1TKne"
      }
    },
    {
      "cell_type": "markdown",
      "source": [
        "Claude 3.7 for now\n",
        "Potentially finetuned Llama or other model instead?\n",
        "Allow people to connect their API key for their own model if wanted?"
      ],
      "metadata": {
        "id": "3AZQ6pupWNaf"
      }
    },
    {
      "cell_type": "markdown",
      "source": [
        "### Assessment & Storage"
      ],
      "metadata": {
        "id": "ejYHWwrHWigX"
      }
    },
    {
      "cell_type": "markdown",
      "source": [
        "Opt-in mechanism that appends the resulting prompt/query pair to a csv so that future people looking for same records can have a framework to start from\n",
        "Allow for scoring of prompt/query pairs somehow? Allow people to see what isn't work well and what is."
      ],
      "metadata": {
        "id": "HbB_CPEVWpI_"
      }
    }
  ]
}