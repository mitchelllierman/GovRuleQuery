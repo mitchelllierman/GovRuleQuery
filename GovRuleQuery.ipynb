{
  "nbformat": 4,
  "nbformat_minor": 0,
  "metadata": {
    "colab": {
      "provenance": [],
      "authorship_tag": "ABX9TyPGulvHHDOh01CgBmq2LfYM",
      "include_colab_link": true
    },
    "kernelspec": {
      "name": "python3",
      "display_name": "Python 3"
    },
    "language_info": {
      "name": "python"
    }
  },
  "cells": [
    {
      "cell_type": "markdown",
      "metadata": {
        "id": "view-in-github",
        "colab_type": "text"
      },
      "source": [
        "<a href=\"https://colab.research.google.com/github/mitchelllierman/GovRuleQuery/blob/main/GovRuleQuery.ipynb\" target=\"_parent\"><img src=\"https://colab.research.google.com/assets/colab-badge.svg\" alt=\"Open In Colab\"/></a>"
      ]
    },
    {
      "cell_type": "markdown",
      "source": [
        "# Planning"
      ],
      "metadata": {
        "id": "5yd0X__yQJsv"
      }
    },
    {
      "cell_type": "markdown",
      "source": [
        "Blueprint:\n",
        "\n",
        "Problem:\n",
        "Need a lot of applications for government exemptions/permits?\n",
        "Don't know how to find the records you're looking for?\n",
        "\n"
      ],
      "metadata": {
        "id": "3iz7f-6wQTjS"
      }
    },
    {
      "cell_type": "markdown",
      "source": [
        "## Components\n"
      ],
      "metadata": {
        "id": "GLhKbAaPQnYG"
      }
    },
    {
      "cell_type": "markdown",
      "source": [
        "### Goal"
      ],
      "metadata": {
        "id": "Uo5Bd1zWRPA4"
      }
    },
    {
      "cell_type": "markdown",
      "source": [
        "Understanding of the records you want to obtain"
      ],
      "metadata": {
        "id": "PGnDyPYBSBbp"
      }
    },
    {
      "cell_type": "markdown",
      "source": [
        "### Prompt"
      ],
      "metadata": {
        "id": "Zef8ZhsUSGNT"
      }
    },
    {
      "cell_type": "markdown",
      "source": [
        "\n",
        "\n",
        "*   Description of records\n",
        "*   Instruction to generate regulations.gov query\n",
        "*   regulations.gov query documentation for additional context\n",
        "*   Example record for additional context\n",
        "*   Potential example of paired document with successful query (for higher-shot)\n"
      ],
      "metadata": {
        "id": "5T4uASxzSQY5"
      }
    },
    {
      "cell_type": "markdown",
      "source": [
        "### Model"
      ],
      "metadata": {
        "id": "6gUElBo1TKne"
      }
    },
    {
      "cell_type": "markdown",
      "source": [
        "Claude 3.7 for now\n",
        "Potentially finetuned Llama or other model instead?\n",
        "Allow people to connect their API key for their own model if wanted?"
      ],
      "metadata": {
        "id": "3AZQ6pupWNaf"
      }
    },
    {
      "cell_type": "markdown",
      "source": [
        "### Assessment & Storage"
      ],
      "metadata": {
        "id": "ejYHWwrHWigX"
      }
    },
    {
      "cell_type": "code",
      "source": [],
      "metadata": {
        "id": "Jcgs_HDQcM4a"
      },
      "execution_count": null,
      "outputs": []
    },
    {
      "cell_type": "markdown",
      "source": [
        "Opt-in mechanism that appends the resulting prompt/query pair to a csv so that future people looking for same records can have a framework to start from\n",
        "Allow for scoring of prompt/query pairs somehow? Allow people to see what isn't work well and what is."
      ],
      "metadata": {
        "id": "HbB_CPEVWpI_"
      }
    },
    {
      "cell_type": "markdown",
      "source": [
        "# Code"
      ],
      "metadata": {
        "id": "GNjFIxb8cOwo"
      }
    },
    {
      "cell_type": "markdown",
      "source": [
        "## Setup"
      ],
      "metadata": {
        "id": "5NyWK9MYcYaS"
      }
    },
    {
      "cell_type": "markdown",
      "source": [
        "Before you are able to use this tool, you will need a regulations.gov API key. Those keys are available to apply for [on the API documentation page here](https://open.gsa.gov/api/regulationsgov/)!"
      ],
      "metadata": {
        "id": "asYunrygcm_9"
      }
    },
    {
      "cell_type": "code",
      "source": [
        "import requests\n",
        "import pandas as pd\n",
        "\n",
        "\n",
        "API_KEY = input(\"Enter your API key: \")\n",
        "\n",
        "\n",
        "if len(API_KEY) < 40:\n",
        "  print(\"Invalid API Key, defaulting to the Demo Key provided by regulations.gov.\\n\n",
        "  Please provide the correct key to avoid low rate limits.\")\n",
        "  API_KEY = \"DEMO_KEY\"\n",
        "else:\n",
        "  print(\"Valid API Key\")\n",
        "\n",
        "BASE_URL = \"https://api.regulations.gov/v4/documents\""
      ],
      "metadata": {
        "id": "1eHnUdmQcQPR"
      },
      "execution_count": null,
      "outputs": []
    },
    {
      "cell_type": "markdown",
      "source": [
        "### Test"
      ],
      "metadata": {
        "id": "CxOvjCcmjqw9"
      }
    },
    {
      "cell_type": "code",
      "source": [
        "# Query parameters for FAA Part 137 applications\n",
        "params = {\n",
        "    \"filter[searchTerm]\": \"(FAA Part 137) AND (UAS) AND (hereby grant)\",\n",
        "    \"page[size]\": 10,  # Adjust as needed\n",
        "    \"api_key\": API_KEY,\n",
        "    \"sort\": \"-postedDate\",\n",
        "}\n",
        "\n",
        "# Make the API request\n",
        "response = requests.get(BASE_URL, params=params)\n",
        "\n",
        "if response.status_code == 200:\n",
        "    data = response.json()\n",
        "    # Flatten the JSON response into a DataFrame\n",
        "    df = pd.json_normalize(data['data'])\n",
        "\n",
        "    # Save to CSV\n",
        "    csv_path = \"/content/FAA_Part_137_Applications.csv\"\n",
        "    df.to_csv(csv_path, index=False)\n",
        "\n",
        "    print(f\"CSV saved at: {csv_path}\")\n",
        "else:\n",
        "    print(f\"Failed to retrieve data. Status code: {response.status_code}\")"
      ],
      "metadata": {
        "colab": {
          "base_uri": "https://localhost:8080/"
        },
        "id": "PKxWZJJvgS7o",
        "outputId": "967ce62b-15b1-4512-b4aa-58596fe41c46"
      },
      "execution_count": 6,
      "outputs": [
        {
          "output_type": "stream",
          "name": "stdout",
          "text": [
            "CSV saved at: /content/FAA_Part_137_Applications.csv\n"
          ]
        }
      ]
    },
    {
      "cell_type": "code",
      "source": [
        "test = pd.read_csv(\"/content/FAA_Part_137_Applications.csv\")\n",
        "test.head()"
      ],
      "metadata": {
        "colab": {
          "base_uri": "https://localhost:8080/",
          "height": 486
        },
        "id": "LEoTXFPdgj9U",
        "outputId": "3f11a4eb-e7df-4da6-a141-3495b24e168f"
      },
      "execution_count": 7,
      "outputs": [
        {
          "output_type": "execute_result",
          "data": {
            "text/plain": [
              "                   id       type attributes.documentType  \\\n",
              "0  FAA-2022-0178-0009  documents                   Other   \n",
              "1  FAA-2024-2613-0002  documents                   Other   \n",
              "2  FAA-2022-0700-0006  documents                   Other   \n",
              "3  FAA-2020-0470-0006  documents                   Other   \n",
              "4  FAA-2022-0319-0017  documents                   Other   \n",
              "\n",
              "  attributes.lastModifiedDate  attributes.highlightedContent  \\\n",
              "0        2024-11-20T18:49:39Z                            NaN   \n",
              "1        2024-11-20T14:25:34Z                            NaN   \n",
              "2        2024-11-20T15:54:56Z                            NaN   \n",
              "3        2024-11-20T21:02:42Z                            NaN   \n",
              "4        2025-03-01T23:52:25Z                            NaN   \n",
              "\n",
              "   attributes.frDocNum  attributes.withdrawn attributes.agencyId  \\\n",
              "0                  NaN                 False                 FAA   \n",
              "1                  NaN                 False                 FAA   \n",
              "2                  NaN                 False                 FAA   \n",
              "3                  NaN                 False                 FAA   \n",
              "4                  NaN                 False                 FAA   \n",
              "\n",
              "   attributes.allowLateComments  attributes.commentEndDate  \\\n",
              "0                          True                        NaN   \n",
              "1                          True                        NaN   \n",
              "2                          True                        NaN   \n",
              "3                          True                        NaN   \n",
              "4                          True                        NaN   \n",
              "\n",
              "                                    attributes.title attributes.postedDate  \\\n",
              "0                            U.S. DOT/FAA - Decision  2024-11-20T05:00:00Z   \n",
              "1  Ceres Air - Exemption/Rulemaking (Additional I...  2024-11-20T05:00:00Z   \n",
              "2                            U.S. DOT/FAA - Decision  2024-11-20T05:00:00Z   \n",
              "3  L&M Road Services, LLC - Exemption/Rulemaking ...  2024-11-20T05:00:00Z   \n",
              "4                            U.S. DOT/FAA - Decision  2024-11-20T05:00:00Z   \n",
              "\n",
              "  attributes.docketId      attributes.subtype attributes.commentStartDate  \\\n",
              "0       FAA-2022-0178                Decision        2024-11-20T05:00:00Z   \n",
              "1       FAA-2024-2613  Additional Information        2024-11-20T05:00:00Z   \n",
              "2       FAA-2022-0700                Decision        2024-11-20T05:00:00Z   \n",
              "3       FAA-2020-0470               Amendment        2024-11-20T05:00:00Z   \n",
              "4       FAA-2022-0319                Decision        2024-11-20T05:00:00Z   \n",
              "\n",
              "   attributes.withinCommentPeriod  attributes.openForComment  \\\n",
              "0                           False                       True   \n",
              "1                           False                       True   \n",
              "2                           False                       True   \n",
              "3                           False                       True   \n",
              "4                           False                       True   \n",
              "\n",
              "  attributes.objectId                                         links.self  \n",
              "0    090000648682ab3f  https://api.regulations.gov/v4/documents/FAA-2...  \n",
              "1    090000648682a73d  https://api.regulations.gov/v4/documents/FAA-2...  \n",
              "2    0900006486829058  https://api.regulations.gov/v4/documents/FAA-2...  \n",
              "3    090000648682b1c6  https://api.regulations.gov/v4/documents/FAA-2...  \n",
              "4    0900006486828d50  https://api.regulations.gov/v4/documents/FAA-2...  "
            ],
            "text/html": [
              "\n",
              "  <div id=\"df-a850c3e7-e921-49ff-afd4-a2285341f32e\" class=\"colab-df-container\">\n",
              "    <div>\n",
              "<style scoped>\n",
              "    .dataframe tbody tr th:only-of-type {\n",
              "        vertical-align: middle;\n",
              "    }\n",
              "\n",
              "    .dataframe tbody tr th {\n",
              "        vertical-align: top;\n",
              "    }\n",
              "\n",
              "    .dataframe thead th {\n",
              "        text-align: right;\n",
              "    }\n",
              "</style>\n",
              "<table border=\"1\" class=\"dataframe\">\n",
              "  <thead>\n",
              "    <tr style=\"text-align: right;\">\n",
              "      <th></th>\n",
              "      <th>id</th>\n",
              "      <th>type</th>\n",
              "      <th>attributes.documentType</th>\n",
              "      <th>attributes.lastModifiedDate</th>\n",
              "      <th>attributes.highlightedContent</th>\n",
              "      <th>attributes.frDocNum</th>\n",
              "      <th>attributes.withdrawn</th>\n",
              "      <th>attributes.agencyId</th>\n",
              "      <th>attributes.allowLateComments</th>\n",
              "      <th>attributes.commentEndDate</th>\n",
              "      <th>attributes.title</th>\n",
              "      <th>attributes.postedDate</th>\n",
              "      <th>attributes.docketId</th>\n",
              "      <th>attributes.subtype</th>\n",
              "      <th>attributes.commentStartDate</th>\n",
              "      <th>attributes.withinCommentPeriod</th>\n",
              "      <th>attributes.openForComment</th>\n",
              "      <th>attributes.objectId</th>\n",
              "      <th>links.self</th>\n",
              "    </tr>\n",
              "  </thead>\n",
              "  <tbody>\n",
              "    <tr>\n",
              "      <th>0</th>\n",
              "      <td>FAA-2022-0178-0009</td>\n",
              "      <td>documents</td>\n",
              "      <td>Other</td>\n",
              "      <td>2024-11-20T18:49:39Z</td>\n",
              "      <td>NaN</td>\n",
              "      <td>NaN</td>\n",
              "      <td>False</td>\n",
              "      <td>FAA</td>\n",
              "      <td>True</td>\n",
              "      <td>NaN</td>\n",
              "      <td>U.S. DOT/FAA - Decision</td>\n",
              "      <td>2024-11-20T05:00:00Z</td>\n",
              "      <td>FAA-2022-0178</td>\n",
              "      <td>Decision</td>\n",
              "      <td>2024-11-20T05:00:00Z</td>\n",
              "      <td>False</td>\n",
              "      <td>True</td>\n",
              "      <td>090000648682ab3f</td>\n",
              "      <td>https://api.regulations.gov/v4/documents/FAA-2...</td>\n",
              "    </tr>\n",
              "    <tr>\n",
              "      <th>1</th>\n",
              "      <td>FAA-2024-2613-0002</td>\n",
              "      <td>documents</td>\n",
              "      <td>Other</td>\n",
              "      <td>2024-11-20T14:25:34Z</td>\n",
              "      <td>NaN</td>\n",
              "      <td>NaN</td>\n",
              "      <td>False</td>\n",
              "      <td>FAA</td>\n",
              "      <td>True</td>\n",
              "      <td>NaN</td>\n",
              "      <td>Ceres Air - Exemption/Rulemaking (Additional I...</td>\n",
              "      <td>2024-11-20T05:00:00Z</td>\n",
              "      <td>FAA-2024-2613</td>\n",
              "      <td>Additional Information</td>\n",
              "      <td>2024-11-20T05:00:00Z</td>\n",
              "      <td>False</td>\n",
              "      <td>True</td>\n",
              "      <td>090000648682a73d</td>\n",
              "      <td>https://api.regulations.gov/v4/documents/FAA-2...</td>\n",
              "    </tr>\n",
              "    <tr>\n",
              "      <th>2</th>\n",
              "      <td>FAA-2022-0700-0006</td>\n",
              "      <td>documents</td>\n",
              "      <td>Other</td>\n",
              "      <td>2024-11-20T15:54:56Z</td>\n",
              "      <td>NaN</td>\n",
              "      <td>NaN</td>\n",
              "      <td>False</td>\n",
              "      <td>FAA</td>\n",
              "      <td>True</td>\n",
              "      <td>NaN</td>\n",
              "      <td>U.S. DOT/FAA - Decision</td>\n",
              "      <td>2024-11-20T05:00:00Z</td>\n",
              "      <td>FAA-2022-0700</td>\n",
              "      <td>Decision</td>\n",
              "      <td>2024-11-20T05:00:00Z</td>\n",
              "      <td>False</td>\n",
              "      <td>True</td>\n",
              "      <td>0900006486829058</td>\n",
              "      <td>https://api.regulations.gov/v4/documents/FAA-2...</td>\n",
              "    </tr>\n",
              "    <tr>\n",
              "      <th>3</th>\n",
              "      <td>FAA-2020-0470-0006</td>\n",
              "      <td>documents</td>\n",
              "      <td>Other</td>\n",
              "      <td>2024-11-20T21:02:42Z</td>\n",
              "      <td>NaN</td>\n",
              "      <td>NaN</td>\n",
              "      <td>False</td>\n",
              "      <td>FAA</td>\n",
              "      <td>True</td>\n",
              "      <td>NaN</td>\n",
              "      <td>L&amp;M Road Services, LLC - Exemption/Rulemaking ...</td>\n",
              "      <td>2024-11-20T05:00:00Z</td>\n",
              "      <td>FAA-2020-0470</td>\n",
              "      <td>Amendment</td>\n",
              "      <td>2024-11-20T05:00:00Z</td>\n",
              "      <td>False</td>\n",
              "      <td>True</td>\n",
              "      <td>090000648682b1c6</td>\n",
              "      <td>https://api.regulations.gov/v4/documents/FAA-2...</td>\n",
              "    </tr>\n",
              "    <tr>\n",
              "      <th>4</th>\n",
              "      <td>FAA-2022-0319-0017</td>\n",
              "      <td>documents</td>\n",
              "      <td>Other</td>\n",
              "      <td>2025-03-01T23:52:25Z</td>\n",
              "      <td>NaN</td>\n",
              "      <td>NaN</td>\n",
              "      <td>False</td>\n",
              "      <td>FAA</td>\n",
              "      <td>True</td>\n",
              "      <td>NaN</td>\n",
              "      <td>U.S. DOT/FAA - Decision</td>\n",
              "      <td>2024-11-20T05:00:00Z</td>\n",
              "      <td>FAA-2022-0319</td>\n",
              "      <td>Decision</td>\n",
              "      <td>2024-11-20T05:00:00Z</td>\n",
              "      <td>False</td>\n",
              "      <td>True</td>\n",
              "      <td>0900006486828d50</td>\n",
              "      <td>https://api.regulations.gov/v4/documents/FAA-2...</td>\n",
              "    </tr>\n",
              "  </tbody>\n",
              "</table>\n",
              "</div>\n",
              "    <div class=\"colab-df-buttons\">\n",
              "\n",
              "  <div class=\"colab-df-container\">\n",
              "    <button class=\"colab-df-convert\" onclick=\"convertToInteractive('df-a850c3e7-e921-49ff-afd4-a2285341f32e')\"\n",
              "            title=\"Convert this dataframe to an interactive table.\"\n",
              "            style=\"display:none;\">\n",
              "\n",
              "  <svg xmlns=\"http://www.w3.org/2000/svg\" height=\"24px\" viewBox=\"0 -960 960 960\">\n",
              "    <path d=\"M120-120v-720h720v720H120Zm60-500h600v-160H180v160Zm220 220h160v-160H400v160Zm0 220h160v-160H400v160ZM180-400h160v-160H180v160Zm440 0h160v-160H620v160ZM180-180h160v-160H180v160Zm440 0h160v-160H620v160Z\"/>\n",
              "  </svg>\n",
              "    </button>\n",
              "\n",
              "  <style>\n",
              "    .colab-df-container {\n",
              "      display:flex;\n",
              "      gap: 12px;\n",
              "    }\n",
              "\n",
              "    .colab-df-convert {\n",
              "      background-color: #E8F0FE;\n",
              "      border: none;\n",
              "      border-radius: 50%;\n",
              "      cursor: pointer;\n",
              "      display: none;\n",
              "      fill: #1967D2;\n",
              "      height: 32px;\n",
              "      padding: 0 0 0 0;\n",
              "      width: 32px;\n",
              "    }\n",
              "\n",
              "    .colab-df-convert:hover {\n",
              "      background-color: #E2EBFA;\n",
              "      box-shadow: 0px 1px 2px rgba(60, 64, 67, 0.3), 0px 1px 3px 1px rgba(60, 64, 67, 0.15);\n",
              "      fill: #174EA6;\n",
              "    }\n",
              "\n",
              "    .colab-df-buttons div {\n",
              "      margin-bottom: 4px;\n",
              "    }\n",
              "\n",
              "    [theme=dark] .colab-df-convert {\n",
              "      background-color: #3B4455;\n",
              "      fill: #D2E3FC;\n",
              "    }\n",
              "\n",
              "    [theme=dark] .colab-df-convert:hover {\n",
              "      background-color: #434B5C;\n",
              "      box-shadow: 0px 1px 3px 1px rgba(0, 0, 0, 0.15);\n",
              "      filter: drop-shadow(0px 1px 2px rgba(0, 0, 0, 0.3));\n",
              "      fill: #FFFFFF;\n",
              "    }\n",
              "  </style>\n",
              "\n",
              "    <script>\n",
              "      const buttonEl =\n",
              "        document.querySelector('#df-a850c3e7-e921-49ff-afd4-a2285341f32e button.colab-df-convert');\n",
              "      buttonEl.style.display =\n",
              "        google.colab.kernel.accessAllowed ? 'block' : 'none';\n",
              "\n",
              "      async function convertToInteractive(key) {\n",
              "        const element = document.querySelector('#df-a850c3e7-e921-49ff-afd4-a2285341f32e');\n",
              "        const dataTable =\n",
              "          await google.colab.kernel.invokeFunction('convertToInteractive',\n",
              "                                                    [key], {});\n",
              "        if (!dataTable) return;\n",
              "\n",
              "        const docLinkHtml = 'Like what you see? Visit the ' +\n",
              "          '<a target=\"_blank\" href=https://colab.research.google.com/notebooks/data_table.ipynb>data table notebook</a>'\n",
              "          + ' to learn more about interactive tables.';\n",
              "        element.innerHTML = '';\n",
              "        dataTable['output_type'] = 'display_data';\n",
              "        await google.colab.output.renderOutput(dataTable, element);\n",
              "        const docLink = document.createElement('div');\n",
              "        docLink.innerHTML = docLinkHtml;\n",
              "        element.appendChild(docLink);\n",
              "      }\n",
              "    </script>\n",
              "  </div>\n",
              "\n",
              "\n",
              "<div id=\"df-e9ffb2c4-7df7-4a82-8e69-031e54bae89b\">\n",
              "  <button class=\"colab-df-quickchart\" onclick=\"quickchart('df-e9ffb2c4-7df7-4a82-8e69-031e54bae89b')\"\n",
              "            title=\"Suggest charts\"\n",
              "            style=\"display:none;\">\n",
              "\n",
              "<svg xmlns=\"http://www.w3.org/2000/svg\" height=\"24px\"viewBox=\"0 0 24 24\"\n",
              "     width=\"24px\">\n",
              "    <g>\n",
              "        <path d=\"M19 3H5c-1.1 0-2 .9-2 2v14c0 1.1.9 2 2 2h14c1.1 0 2-.9 2-2V5c0-1.1-.9-2-2-2zM9 17H7v-7h2v7zm4 0h-2V7h2v10zm4 0h-2v-4h2v4z\"/>\n",
              "    </g>\n",
              "</svg>\n",
              "  </button>\n",
              "\n",
              "<style>\n",
              "  .colab-df-quickchart {\n",
              "      --bg-color: #E8F0FE;\n",
              "      --fill-color: #1967D2;\n",
              "      --hover-bg-color: #E2EBFA;\n",
              "      --hover-fill-color: #174EA6;\n",
              "      --disabled-fill-color: #AAA;\n",
              "      --disabled-bg-color: #DDD;\n",
              "  }\n",
              "\n",
              "  [theme=dark] .colab-df-quickchart {\n",
              "      --bg-color: #3B4455;\n",
              "      --fill-color: #D2E3FC;\n",
              "      --hover-bg-color: #434B5C;\n",
              "      --hover-fill-color: #FFFFFF;\n",
              "      --disabled-bg-color: #3B4455;\n",
              "      --disabled-fill-color: #666;\n",
              "  }\n",
              "\n",
              "  .colab-df-quickchart {\n",
              "    background-color: var(--bg-color);\n",
              "    border: none;\n",
              "    border-radius: 50%;\n",
              "    cursor: pointer;\n",
              "    display: none;\n",
              "    fill: var(--fill-color);\n",
              "    height: 32px;\n",
              "    padding: 0;\n",
              "    width: 32px;\n",
              "  }\n",
              "\n",
              "  .colab-df-quickchart:hover {\n",
              "    background-color: var(--hover-bg-color);\n",
              "    box-shadow: 0 1px 2px rgba(60, 64, 67, 0.3), 0 1px 3px 1px rgba(60, 64, 67, 0.15);\n",
              "    fill: var(--button-hover-fill-color);\n",
              "  }\n",
              "\n",
              "  .colab-df-quickchart-complete:disabled,\n",
              "  .colab-df-quickchart-complete:disabled:hover {\n",
              "    background-color: var(--disabled-bg-color);\n",
              "    fill: var(--disabled-fill-color);\n",
              "    box-shadow: none;\n",
              "  }\n",
              "\n",
              "  .colab-df-spinner {\n",
              "    border: 2px solid var(--fill-color);\n",
              "    border-color: transparent;\n",
              "    border-bottom-color: var(--fill-color);\n",
              "    animation:\n",
              "      spin 1s steps(1) infinite;\n",
              "  }\n",
              "\n",
              "  @keyframes spin {\n",
              "    0% {\n",
              "      border-color: transparent;\n",
              "      border-bottom-color: var(--fill-color);\n",
              "      border-left-color: var(--fill-color);\n",
              "    }\n",
              "    20% {\n",
              "      border-color: transparent;\n",
              "      border-left-color: var(--fill-color);\n",
              "      border-top-color: var(--fill-color);\n",
              "    }\n",
              "    30% {\n",
              "      border-color: transparent;\n",
              "      border-left-color: var(--fill-color);\n",
              "      border-top-color: var(--fill-color);\n",
              "      border-right-color: var(--fill-color);\n",
              "    }\n",
              "    40% {\n",
              "      border-color: transparent;\n",
              "      border-right-color: var(--fill-color);\n",
              "      border-top-color: var(--fill-color);\n",
              "    }\n",
              "    60% {\n",
              "      border-color: transparent;\n",
              "      border-right-color: var(--fill-color);\n",
              "    }\n",
              "    80% {\n",
              "      border-color: transparent;\n",
              "      border-right-color: var(--fill-color);\n",
              "      border-bottom-color: var(--fill-color);\n",
              "    }\n",
              "    90% {\n",
              "      border-color: transparent;\n",
              "      border-bottom-color: var(--fill-color);\n",
              "    }\n",
              "  }\n",
              "</style>\n",
              "\n",
              "  <script>\n",
              "    async function quickchart(key) {\n",
              "      const quickchartButtonEl =\n",
              "        document.querySelector('#' + key + ' button');\n",
              "      quickchartButtonEl.disabled = true;  // To prevent multiple clicks.\n",
              "      quickchartButtonEl.classList.add('colab-df-spinner');\n",
              "      try {\n",
              "        const charts = await google.colab.kernel.invokeFunction(\n",
              "            'suggestCharts', [key], {});\n",
              "      } catch (error) {\n",
              "        console.error('Error during call to suggestCharts:', error);\n",
              "      }\n",
              "      quickchartButtonEl.classList.remove('colab-df-spinner');\n",
              "      quickchartButtonEl.classList.add('colab-df-quickchart-complete');\n",
              "    }\n",
              "    (() => {\n",
              "      let quickchartButtonEl =\n",
              "        document.querySelector('#df-e9ffb2c4-7df7-4a82-8e69-031e54bae89b button');\n",
              "      quickchartButtonEl.style.display =\n",
              "        google.colab.kernel.accessAllowed ? 'block' : 'none';\n",
              "    })();\n",
              "  </script>\n",
              "</div>\n",
              "\n",
              "    </div>\n",
              "  </div>\n"
            ],
            "application/vnd.google.colaboratory.intrinsic+json": {
              "type": "dataframe",
              "variable_name": "test",
              "summary": "{\n  \"name\": \"test\",\n  \"rows\": 10,\n  \"fields\": [\n    {\n      \"column\": \"id\",\n      \"properties\": {\n        \"dtype\": \"string\",\n        \"num_unique_values\": 10,\n        \"samples\": [\n          \"FAA-2024-1947-0002\",\n          \"FAA-2024-2613-0002\",\n          \"FAA-2024-2617-0001\"\n        ],\n        \"semantic_type\": \"\",\n        \"description\": \"\"\n      }\n    },\n    {\n      \"column\": \"type\",\n      \"properties\": {\n        \"dtype\": \"category\",\n        \"num_unique_values\": 1,\n        \"samples\": [\n          \"documents\"\n        ],\n        \"semantic_type\": \"\",\n        \"description\": \"\"\n      }\n    },\n    {\n      \"column\": \"attributes.documentType\",\n      \"properties\": {\n        \"dtype\": \"category\",\n        \"num_unique_values\": 1,\n        \"samples\": [\n          \"Other\"\n        ],\n        \"semantic_type\": \"\",\n        \"description\": \"\"\n      }\n    },\n    {\n      \"column\": \"attributes.lastModifiedDate\",\n      \"properties\": {\n        \"dtype\": \"object\",\n        \"num_unique_values\": 10,\n        \"samples\": [\n          \"2024-11-19T16:12:40Z\"\n        ],\n        \"semantic_type\": \"\",\n        \"description\": \"\"\n      }\n    },\n    {\n      \"column\": \"attributes.highlightedContent\",\n      \"properties\": {\n        \"dtype\": \"number\",\n        \"std\": null,\n        \"min\": null,\n        \"max\": null,\n        \"num_unique_values\": 0,\n        \"samples\": [],\n        \"semantic_type\": \"\",\n        \"description\": \"\"\n      }\n    },\n    {\n      \"column\": \"attributes.frDocNum\",\n      \"properties\": {\n        \"dtype\": \"number\",\n        \"std\": null,\n        \"min\": null,\n        \"max\": null,\n        \"num_unique_values\": 0,\n        \"samples\": [],\n        \"semantic_type\": \"\",\n        \"description\": \"\"\n      }\n    },\n    {\n      \"column\": \"attributes.withdrawn\",\n      \"properties\": {\n        \"dtype\": \"boolean\",\n        \"num_unique_values\": 1,\n        \"samples\": [],\n        \"semantic_type\": \"\",\n        \"description\": \"\"\n      }\n    },\n    {\n      \"column\": \"attributes.agencyId\",\n      \"properties\": {\n        \"dtype\": \"category\",\n        \"num_unique_values\": 1,\n        \"samples\": [],\n        \"semantic_type\": \"\",\n        \"description\": \"\"\n      }\n    },\n    {\n      \"column\": \"attributes.allowLateComments\",\n      \"properties\": {\n        \"dtype\": \"boolean\",\n        \"num_unique_values\": 1,\n        \"samples\": [],\n        \"semantic_type\": \"\",\n        \"description\": \"\"\n      }\n    },\n    {\n      \"column\": \"attributes.commentEndDate\",\n      \"properties\": {\n        \"dtype\": \"number\",\n        \"std\": null,\n        \"min\": null,\n        \"max\": null,\n        \"num_unique_values\": 0,\n        \"samples\": [],\n        \"semantic_type\": \"\",\n        \"description\": \"\"\n      }\n    },\n    {\n      \"column\": \"attributes.title\",\n      \"properties\": {\n        \"dtype\": \"category\",\n        \"num_unique_values\": 4,\n        \"samples\": [],\n        \"semantic_type\": \"\",\n        \"description\": \"\"\n      }\n    },\n    {\n      \"column\": \"attributes.postedDate\",\n      \"properties\": {\n        \"dtype\": \"object\",\n        \"num_unique_values\": 2,\n        \"samples\": [],\n        \"semantic_type\": \"\",\n        \"description\": \"\"\n      }\n    },\n    {\n      \"column\": \"attributes.docketId\",\n      \"properties\": {\n        \"dtype\": \"string\",\n        \"num_unique_values\": 10,\n        \"samples\": [],\n        \"semantic_type\": \"\",\n        \"description\": \"\"\n      }\n    },\n    {\n      \"column\": \"attributes.subtype\",\n      \"properties\": {\n        \"dtype\": \"category\",\n        \"num_unique_values\": 4,\n        \"samples\": [],\n        \"semantic_type\": \"\",\n        \"description\": \"\"\n      }\n    },\n    {\n      \"column\": \"attributes.commentStartDate\",\n      \"properties\": {\n        \"dtype\": \"object\",\n        \"num_unique_values\": 2,\n        \"samples\": [],\n        \"semantic_type\": \"\",\n        \"description\": \"\"\n      }\n    },\n    {\n      \"column\": \"attributes.withinCommentPeriod\",\n      \"properties\": {\n        \"dtype\": \"boolean\",\n        \"num_unique_values\": 1,\n        \"samples\": [],\n        \"semantic_type\": \"\",\n        \"description\": \"\"\n      }\n    },\n    {\n      \"column\": \"attributes.openForComment\",\n      \"properties\": {\n        \"dtype\": \"boolean\",\n        \"num_unique_values\": 1,\n        \"samples\": [],\n        \"semantic_type\": \"\",\n        \"description\": \"\"\n      }\n    },\n    {\n      \"column\": \"attributes.objectId\",\n      \"properties\": {\n        \"dtype\": \"string\",\n        \"num_unique_values\": 10,\n        \"samples\": [],\n        \"semantic_type\": \"\",\n        \"description\": \"\"\n      }\n    },\n    {\n      \"column\": \"links.self\",\n      \"properties\": {\n        \"dtype\": \"string\",\n        \"num_unique_values\": 10,\n        \"samples\": [],\n        \"semantic_type\": \"\",\n        \"description\": \"\"\n      }\n    }\n  ]\n}"
            }
          },
          "metadata": {},
          "execution_count": 7
        }
      ]
    },
    {
      "cell_type": "markdown",
      "source": [
        "This test proves that you can use the groupings and boolean operators available on the regulations.gov website via the searchTerm query parameter in the request URL we are building using the requests library. Results should be consistent across either option."
      ],
      "metadata": {
        "id": "hAvmNItVh60p"
      }
    },
    {
      "cell_type": "markdown",
      "source": [
        "### Generalizing"
      ],
      "metadata": {
        "id": "7SgYRQVcjxRt"
      }
    },
    {
      "cell_type": "markdown",
      "source": [
        "TODO"
      ],
      "metadata": {
        "id": "CpB6_UBpj2iA"
      }
    }
  ]
}